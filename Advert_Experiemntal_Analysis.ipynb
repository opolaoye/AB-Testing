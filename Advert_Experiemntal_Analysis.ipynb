{
 "cells": [
  {
   "cell_type": "markdown",
   "metadata": {},
   "source": [
    "## Import Libraries"
   ]
  },
  {
   "cell_type": "code",
   "execution_count": 1,
   "metadata": {},
   "outputs": [],
   "source": [
    "#import necessary libraries\n",
    "import numpy as np\n",
    "import pandas as pd\n",
    "import seaborn as sns\n",
    "import matplotlib.pyplot as plt\n",
    "%matplotlib inline"
   ]
  },
  {
   "cell_type": "markdown",
   "metadata": {},
   "source": [
    "## Read in Data File"
   ]
  },
  {
   "cell_type": "code",
   "execution_count": 2,
   "metadata": {},
   "outputs": [
    {
     "data": {
      "text/html": [
       "<div>\n",
       "<style scoped>\n",
       "    .dataframe tbody tr th:only-of-type {\n",
       "        vertical-align: middle;\n",
       "    }\n",
       "\n",
       "    .dataframe tbody tr th {\n",
       "        vertical-align: top;\n",
       "    }\n",
       "\n",
       "    .dataframe thead th {\n",
       "        text-align: right;\n",
       "    }\n",
       "</style>\n",
       "<table border=\"1\" class=\"dataframe\">\n",
       "  <thead>\n",
       "    <tr style=\"text-align: right;\">\n",
       "      <th></th>\n",
       "      <th>treatment</th>\n",
       "      <th>company_size</th>\n",
       "      <th>campaign_spend</th>\n",
       "      <th>campaign_budget</th>\n",
       "    </tr>\n",
       "  </thead>\n",
       "  <tbody>\n",
       "    <tr>\n",
       "      <th>0</th>\n",
       "      <td>False</td>\n",
       "      <td>small</td>\n",
       "      <td>10.4477</td>\n",
       "      <td>3.9035</td>\n",
       "    </tr>\n",
       "    <tr>\n",
       "      <th>1</th>\n",
       "      <td>False</td>\n",
       "      <td>medium</td>\n",
       "      <td>3.7776</td>\n",
       "      <td>1.9872</td>\n",
       "    </tr>\n",
       "    <tr>\n",
       "      <th>2</th>\n",
       "      <td>False</td>\n",
       "      <td>medium</td>\n",
       "      <td>46.1880</td>\n",
       "      <td>55.4523</td>\n",
       "    </tr>\n",
       "    <tr>\n",
       "      <th>3</th>\n",
       "      <td>False</td>\n",
       "      <td>small</td>\n",
       "      <td>6.6271</td>\n",
       "      <td>6.5136</td>\n",
       "    </tr>\n",
       "    <tr>\n",
       "      <th>4</th>\n",
       "      <td>False</td>\n",
       "      <td>small</td>\n",
       "      <td>92.3405</td>\n",
       "      <td>83.1018</td>\n",
       "    </tr>\n",
       "  </tbody>\n",
       "</table>\n",
       "</div>"
      ],
      "text/plain": [
       "   treatment company_size  campaign_spend  campaign_budget\n",
       "0      False        small         10.4477           3.9035\n",
       "1      False       medium          3.7776           1.9872\n",
       "2      False       medium         46.1880          55.4523\n",
       "3      False        small          6.6271           6.5136\n",
       "4      False        small         92.3405          83.1018"
      ]
     },
     "execution_count": 2,
     "metadata": {},
     "output_type": "execute_result"
    }
   ],
   "source": [
    "#read in data from local machine\n",
    "df = pd.read_csv('/Users/opeyemi/Downloads/Twitter Takehome/analytical_take_home_data_v2_.csv')\n",
    "df.head()"
   ]
  },
  {
   "cell_type": "markdown",
   "metadata": {},
   "source": [
    "## Exploratory Data Analysis\n",
    "I will start with some Exploratory Data analysis"
   ]
  },
  {
   "cell_type": "code",
   "execution_count": 3,
   "metadata": {},
   "outputs": [
    {
     "data": {
      "text/html": [
       "<div>\n",
       "<style scoped>\n",
       "    .dataframe tbody tr th:only-of-type {\n",
       "        vertical-align: middle;\n",
       "    }\n",
       "\n",
       "    .dataframe tbody tr th {\n",
       "        vertical-align: top;\n",
       "    }\n",
       "\n",
       "    .dataframe thead th {\n",
       "        text-align: right;\n",
       "    }\n",
       "</style>\n",
       "<table border=\"1\" class=\"dataframe\">\n",
       "  <thead>\n",
       "    <tr style=\"text-align: right;\">\n",
       "      <th></th>\n",
       "      <th>campaign_spend</th>\n",
       "      <th>campaign_budget</th>\n",
       "    </tr>\n",
       "  </thead>\n",
       "  <tbody>\n",
       "    <tr>\n",
       "      <th>count</th>\n",
       "      <td>1.547400e+04</td>\n",
       "      <td>1.547400e+04</td>\n",
       "    </tr>\n",
       "    <tr>\n",
       "      <th>mean</th>\n",
       "      <td>4.903037e+03</td>\n",
       "      <td>5.772614e+03</td>\n",
       "    </tr>\n",
       "    <tr>\n",
       "      <th>std</th>\n",
       "      <td>6.516692e+04</td>\n",
       "      <td>9.903381e+04</td>\n",
       "    </tr>\n",
       "    <tr>\n",
       "      <th>min</th>\n",
       "      <td>3.595000e-01</td>\n",
       "      <td>9.190000e-02</td>\n",
       "    </tr>\n",
       "    <tr>\n",
       "      <th>25%</th>\n",
       "      <td>1.517812e+01</td>\n",
       "      <td>1.279290e+01</td>\n",
       "    </tr>\n",
       "    <tr>\n",
       "      <th>50%</th>\n",
       "      <td>5.009005e+01</td>\n",
       "      <td>4.881625e+01</td>\n",
       "    </tr>\n",
       "    <tr>\n",
       "      <th>75%</th>\n",
       "      <td>2.365468e+02</td>\n",
       "      <td>2.523155e+02</td>\n",
       "    </tr>\n",
       "    <tr>\n",
       "      <th>max</th>\n",
       "      <td>5.289217e+06</td>\n",
       "      <td>1.024289e+07</td>\n",
       "    </tr>\n",
       "  </tbody>\n",
       "</table>\n",
       "</div>"
      ],
      "text/plain": [
       "       campaign_spend  campaign_budget\n",
       "count    1.547400e+04     1.547400e+04\n",
       "mean     4.903037e+03     5.772614e+03\n",
       "std      6.516692e+04     9.903381e+04\n",
       "min      3.595000e-01     9.190000e-02\n",
       "25%      1.517812e+01     1.279290e+01\n",
       "50%      5.009005e+01     4.881625e+01\n",
       "75%      2.365468e+02     2.523155e+02\n",
       "max      5.289217e+06     1.024289e+07"
      ]
     },
     "execution_count": 3,
     "metadata": {},
     "output_type": "execute_result"
    }
   ],
   "source": [
    "df.describe()"
   ]
  },
  {
   "cell_type": "code",
   "execution_count": 4,
   "metadata": {},
   "outputs": [
    {
     "name": "stdout",
     "output_type": "stream",
     "text": [
      "<class 'pandas.core.frame.DataFrame'>\n",
      "RangeIndex: 15474 entries, 0 to 15473\n",
      "Data columns (total 4 columns):\n",
      "treatment          15474 non-null bool\n",
      "company_size       15474 non-null object\n",
      "campaign_spend     15474 non-null float64\n",
      "campaign_budget    15474 non-null float64\n",
      "dtypes: bool(1), float64(2), object(1)\n",
      "memory usage: 377.9+ KB\n"
     ]
    }
   ],
   "source": [
    "#check the info of the features\n",
    "df.info()"
   ]
  },
  {
   "cell_type": "code",
   "execution_count": 5,
   "metadata": {},
   "outputs": [
    {
     "data": {
      "text/plain": [
       "treatment          0\n",
       "company_size       0\n",
       "campaign_spend     0\n",
       "campaign_budget    0\n",
       "dtype: int64"
      ]
     },
     "execution_count": 5,
     "metadata": {},
     "output_type": "execute_result"
    }
   ],
   "source": [
    "#check if there are null values\n",
    "df.isnull().sum()"
   ]
  },
  {
   "cell_type": "markdown",
   "metadata": {},
   "source": [
    "We notice no missing values from the information of our dataframe"
   ]
  },
  {
   "cell_type": "code",
   "execution_count": 6,
   "metadata": {},
   "outputs": [
    {
     "data": {
      "text/plain": [
       "True     7741\n",
       "False    7733\n",
       "Name: treatment, dtype: int64"
      ]
     },
     "execution_count": 6,
     "metadata": {},
     "output_type": "execute_result"
    }
   ],
   "source": [
    "#check if the treatment is of a balance class\n",
    "df['treatment'].value_counts()"
   ]
  },
  {
   "cell_type": "markdown",
   "metadata": {},
   "source": [
    "We have 8 more True cases than the False case."
   ]
  },
  {
   "cell_type": "code",
   "execution_count": 7,
   "metadata": {},
   "outputs": [
    {
     "data": {
      "text/plain": [
       "<seaborn.axisgrid.PairGrid at 0x1a1e8cef28>"
      ]
     },
     "execution_count": 7,
     "metadata": {},
     "output_type": "execute_result"
    },
    {
     "data": {
      "image/png": "[encoded data removed]",
      "text/plain": [
       "<Figure size 422.125x360 with 6 Axes>"
      ]
     },
     "metadata": {
      "needs_background": "light"
     },
     "output_type": "display_data"
    }
   ],
   "source": [
    "sns.pairplot(vars=[\"campaign_spend\",\"campaign_budget\"], data=df, hue=\"treatment\")"
   ]
  },
  {
   "cell_type": "markdown",
   "metadata": {},
   "source": [
    "From this plot we can see the presence of some outliers. We cannot conclude on a linear relationship between campaign spend amount and campaign budget. I will go ahead and visualize a blot plot to see descriptive statistics of both variables separated by treatment."
   ]
  },
  {
   "cell_type": "code",
   "execution_count": 8,
   "metadata": {},
   "outputs": [
    {
     "data": {
      "text/plain": [
       "Text(0.5, 1.0, 'Campaign Spend by Company Size, Separated by Treatment')"
      ]
     },
     "execution_count": 8,
     "metadata": {},
     "output_type": "execute_result"
    },
    {
     "data": {
      "image/png": "[encoded data removed]",
      "text/plain": [
       "<Figure size 864x576 with 1 Axes>"
      ]
     },
     "metadata": {
      "needs_background": "light"
     },
     "output_type": "display_data"
    }
   ],
   "source": [
    "plt.figure(figsize=(12,8))\n",
    "sns.boxplot(x='company_size',y='campaign_spend',hue='treatment',data=df, palette='rainbow')\n",
    "#sns.swarmplot(x='company_size',y='campaign_spend',hue='treatment', dodge=True,data=df, alpha=.8,color='grey',s=4)\n",
    "sns.violinplot(x='company_size',y=\"campaign_spend\", data=df, hue='treatment', split='True', palette='rainbow')\n",
    "plt.title(\"Campaign Spend by Company Size, Separated by Treatment\")"
   ]
  },
  {
   "cell_type": "code",
   "execution_count": 9,
   "metadata": {},
   "outputs": [
    {
     "data": {
      "text/plain": [
       "Text(0.5, 1.0, 'Campaign Spend by Company Size, Separated by Treatment')"
      ]
     },
     "execution_count": 9,
     "metadata": {},
     "output_type": "execute_result"
    },
    {
     "data": {
      "image/png": "[encoded data removed]",
      "text/plain": [
       "<Figure size 864x576 with 1 Axes>"
      ]
     },
     "metadata": {
      "needs_background": "light"
     },
     "output_type": "display_data"
    }
   ],
   "source": [
    "plt.figure(figsize=(12,8))\n",
    "sns.boxplot(x='company_size',y='campaign_budget',hue='treatment',data=df, palette='rainbow')\n",
    "#sns.swarmplot(x='company_size',y='campaign_budget',hue='treatment', dodge=True,data=df, alpha=.8,color='grey',s=4)\n",
    "sns.violinplot(x='company_size',y=\"campaign_budget\", data=df, hue='treatment', split='True', palette='rainbow')\n",
    "plt.title(\"Campaign Spend by Company Size, Separated by Treatment\")"
   ]
  },
  {
   "cell_type": "markdown",
   "metadata": {},
   "source": [
    "We notice that the medium sized companies have the same median for both the budget and the spending in both treatment and control. The inter quartile range is smaller in the treatment group compared to the control group.\n"
   ]
  },
  {
   "cell_type": "markdown",
   "metadata": {},
   "source": [
    "## Question 1\n",
    "How many campaigns have overspend of greater than 1% of their budget in the control group? In the treatment group?"
   ]
  },
  {
   "cell_type": "code",
   "execution_count": 10,
   "metadata": {},
   "outputs": [
    {
     "data": {
      "text/html": [
       "<div>\n",
       "<style scoped>\n",
       "    .dataframe tbody tr th:only-of-type {\n",
       "        vertical-align: middle;\n",
       "    }\n",
       "\n",
       "    .dataframe tbody tr th {\n",
       "        vertical-align: top;\n",
       "    }\n",
       "\n",
       "    .dataframe thead th {\n",
       "        text-align: right;\n",
       "    }\n",
       "</style>\n",
       "<table border=\"1\" class=\"dataframe\">\n",
       "  <thead>\n",
       "    <tr style=\"text-align: right;\">\n",
       "      <th></th>\n",
       "      <th>treatment</th>\n",
       "      <th>company_size</th>\n",
       "      <th>campaign_spend</th>\n",
       "      <th>campaign_budget</th>\n",
       "      <th>overspend_pct</th>\n",
       "    </tr>\n",
       "  </thead>\n",
       "  <tbody>\n",
       "    <tr>\n",
       "      <th>0</th>\n",
       "      <td>False</td>\n",
       "      <td>small</td>\n",
       "      <td>10.4477</td>\n",
       "      <td>3.9035</td>\n",
       "      <td>167.649545</td>\n",
       "    </tr>\n",
       "    <tr>\n",
       "      <th>1</th>\n",
       "      <td>False</td>\n",
       "      <td>medium</td>\n",
       "      <td>3.7776</td>\n",
       "      <td>1.9872</td>\n",
       "      <td>90.096618</td>\n",
       "    </tr>\n",
       "    <tr>\n",
       "      <th>2</th>\n",
       "      <td>False</td>\n",
       "      <td>medium</td>\n",
       "      <td>46.1880</td>\n",
       "      <td>55.4523</td>\n",
       "      <td>-16.706791</td>\n",
       "    </tr>\n",
       "    <tr>\n",
       "      <th>3</th>\n",
       "      <td>False</td>\n",
       "      <td>small</td>\n",
       "      <td>6.6271</td>\n",
       "      <td>6.5136</td>\n",
       "      <td>1.742508</td>\n",
       "    </tr>\n",
       "    <tr>\n",
       "      <th>4</th>\n",
       "      <td>False</td>\n",
       "      <td>small</td>\n",
       "      <td>92.3405</td>\n",
       "      <td>83.1018</td>\n",
       "      <td>11.117328</td>\n",
       "    </tr>\n",
       "  </tbody>\n",
       "</table>\n",
       "</div>"
      ],
      "text/plain": [
       "   treatment company_size  campaign_spend  campaign_budget  overspend_pct\n",
       "0      False        small         10.4477           3.9035     167.649545\n",
       "1      False       medium          3.7776           1.9872      90.096618\n",
       "2      False       medium         46.1880          55.4523     -16.706791\n",
       "3      False        small          6.6271           6.5136       1.742508\n",
       "4      False        small         92.3405          83.1018      11.117328"
      ]
     },
     "execution_count": 10,
     "metadata": {},
     "output_type": "execute_result"
    }
   ],
   "source": [
    "# calculate the overspend percentage\n",
    "df['overspend_pct'] = (df['campaign_spend'] - df['campaign_budget']) / (df['campaign_budget'])*100\n",
    "df.head()\n"
   ]
  },
  {
   "cell_type": "code",
   "execution_count": 11,
   "metadata": {},
   "outputs": [
    {
     "name": "stdout",
     "output_type": "stream",
     "text": [
      "<class 'pandas.core.frame.DataFrame'>\n",
      "RangeIndex: 15474 entries, 0 to 15473\n",
      "Data columns (total 5 columns):\n",
      "treatment          15474 non-null bool\n",
      "company_size       15474 non-null object\n",
      "campaign_spend     15474 non-null float64\n",
      "campaign_budget    15474 non-null float64\n",
      "overspend_pct      15474 non-null float64\n",
      "dtypes: bool(1), float64(3), object(1)\n",
      "memory usage: 498.8+ KB\n"
     ]
    }
   ],
   "source": [
    "df.info()"
   ]
  },
  {
   "cell_type": "code",
   "execution_count": 12,
   "metadata": {},
   "outputs": [
    {
     "data": {
      "text/html": [
       "<div>\n",
       "<style scoped>\n",
       "    .dataframe tbody tr th:only-of-type {\n",
       "        vertical-align: middle;\n",
       "    }\n",
       "\n",
       "    .dataframe tbody tr th {\n",
       "        vertical-align: top;\n",
       "    }\n",
       "\n",
       "    .dataframe thead th {\n",
       "        text-align: right;\n",
       "    }\n",
       "</style>\n",
       "<table border=\"1\" class=\"dataframe\">\n",
       "  <thead>\n",
       "    <tr style=\"text-align: right;\">\n",
       "      <th></th>\n",
       "      <th>treatment</th>\n",
       "      <th>company_size</th>\n",
       "      <th>campaign_spend</th>\n",
       "      <th>campaign_budget</th>\n",
       "      <th>overspend_pct</th>\n",
       "      <th>overspend_gt1pct</th>\n",
       "    </tr>\n",
       "  </thead>\n",
       "  <tbody>\n",
       "    <tr>\n",
       "      <th>0</th>\n",
       "      <td>False</td>\n",
       "      <td>small</td>\n",
       "      <td>10.4477</td>\n",
       "      <td>3.9035</td>\n",
       "      <td>167.649545</td>\n",
       "      <td>Control</td>\n",
       "    </tr>\n",
       "    <tr>\n",
       "      <th>1</th>\n",
       "      <td>False</td>\n",
       "      <td>medium</td>\n",
       "      <td>3.7776</td>\n",
       "      <td>1.9872</td>\n",
       "      <td>90.096618</td>\n",
       "      <td>Control</td>\n",
       "    </tr>\n",
       "    <tr>\n",
       "      <th>2</th>\n",
       "      <td>False</td>\n",
       "      <td>medium</td>\n",
       "      <td>46.1880</td>\n",
       "      <td>55.4523</td>\n",
       "      <td>-16.706791</td>\n",
       "      <td>NaN</td>\n",
       "    </tr>\n",
       "    <tr>\n",
       "      <th>3</th>\n",
       "      <td>False</td>\n",
       "      <td>small</td>\n",
       "      <td>6.6271</td>\n",
       "      <td>6.5136</td>\n",
       "      <td>1.742508</td>\n",
       "      <td>Control</td>\n",
       "    </tr>\n",
       "    <tr>\n",
       "      <th>4</th>\n",
       "      <td>False</td>\n",
       "      <td>small</td>\n",
       "      <td>92.3405</td>\n",
       "      <td>83.1018</td>\n",
       "      <td>11.117328</td>\n",
       "      <td>Control</td>\n",
       "    </tr>\n",
       "  </tbody>\n",
       "</table>\n",
       "</div>"
      ],
      "text/plain": [
       "   treatment company_size  campaign_spend  campaign_budget  overspend_pct  \\\n",
       "0      False        small         10.4477           3.9035     167.649545   \n",
       "1      False       medium          3.7776           1.9872      90.096618   \n",
       "2      False       medium         46.1880          55.4523     -16.706791   \n",
       "3      False        small          6.6271           6.5136       1.742508   \n",
       "4      False        small         92.3405          83.1018      11.117328   \n",
       "\n",
       "  overspend_gt1pct  \n",
       "0          Control  \n",
       "1          Control  \n",
       "2              NaN  \n",
       "3          Control  \n",
       "4          Control  "
      ]
     },
     "execution_count": 12,
     "metadata": {},
     "output_type": "execute_result"
    }
   ],
   "source": [
    "df.loc[(df['treatment'] == True) & (df['overspend_pct'] > 1.0), 'overspend_gt1pct'] = 'Treatment'  \n",
    "df.loc[(df['treatment'] == False) & (df['overspend_pct'] > 1.0), 'overspend_gt1pct'] = 'Control'  \n",
    "\n",
    "df.head()"
   ]
  },
  {
   "cell_type": "code",
   "execution_count": 13,
   "metadata": {},
   "outputs": [
    {
     "data": {
      "text/plain": [
       "Control      5716\n",
       "Treatment    5180\n",
       "Name: overspend_gt1pct, dtype: int64"
      ]
     },
     "execution_count": 13,
     "metadata": {},
     "output_type": "execute_result"
    }
   ],
   "source": [
    "df['overspend_gt1pct'].value_counts()"
   ]
  },
  {
   "cell_type": "markdown",
   "metadata": {},
   "source": [
    "## Question 2"
   ]
  },
  {
   "cell_type": "markdown",
   "metadata": {},
   "source": [
    "Was the new product effective at reducing overspend, and was it more or less effective\n",
    "depending on the company size? Put together an analysis describing how the treatment\n",
    "affected overspend."
   ]
  },
  {
   "cell_type": "markdown",
   "metadata": {},
   "source": [
    "### Question 2a\n",
    "Was the new product effective at reducing overspend?"
   ]
  },
  {
   "cell_type": "markdown",
   "metadata": {},
   "source": [
    "#### Assumption"
   ]
  },
  {
   "cell_type": "markdown",
   "metadata": {},
   "source": [
    "* Before checking if the new product is effective at reducing overspend.\n",
    "    * I will assume the treatment and control groups are statistically independent so both can be treated as unpaired.\n",
    "    * obersvation in treatment & control group have an approximately normal distribution \n",
    "    * Homogeneity of variances (variances are equal between treatment and control group)\n",
    "    * Treatment & control group are sampled independently from each other from the same population\n",
    "\n",
    "* I will check if there is a signficant association between treatment and company size to overspend using chi-square independence test \n",
    "  "
   ]
  },
  {
   "cell_type": "markdown",
   "metadata": {},
   "source": [
    "##### Statistical Significant Test\n",
    "\n",
    "###### Null Hypotesis: There is no relationship between treatment and company_size\n",
    "###### Alternative Hypothesis: There is relationship between treatment and company_size"
   ]
  },
  {
   "cell_type": "code",
   "execution_count": 14,
   "metadata": {},
   "outputs": [
    {
     "name": "stdout",
     "output_type": "stream",
     "text": [
      "contingency_table :-\n",
      " company_size  large  medium  small\n",
      "treatment                         \n",
      "False          2701     735   4297\n",
      "True           2445     692   4604\n",
      "\n",
      "Observed Values :-\n",
      " [[2701  735 4297]\n",
      " [2445  692 4604]]\n",
      "\n",
      "Expected Values :-\n",
      " [[2571.66976864  713.13112317 4448.19910818]\n",
      " [2574.33023136  713.86887683 4452.80089182]]\n",
      "\n",
      "Degree of Freedom:- 1\n",
      "\n",
      "chi-square statistic:- 14.341978165326047\n",
      "\n",
      "critical_value: 3.841458820694124\n",
      "\n",
      "p-value: 0.00015242777251955886\n",
      "\n",
      "Significance level:  0.05\n",
      "\n",
      "Degree of Freedom:  1\n",
      "\n",
      "chi-square statistic: 14.341978165326047\n",
      "\n",
      "critical_value: 3.841458820694124\n",
      "\n",
      "p-value: 0.00015242777251955886\n",
      "\n",
      "Reject H0,There is a relationship between treatment and company_size\n",
      "\n",
      "Reject H0,There is a relationship between treatment and company_size\n",
      "\n"
     ]
    }
   ],
   "source": [
    "\n",
    "contingency_table=pd.crosstab(df[\"treatment\"],df[\"company_size\"])\n",
    "print('contingency_table :-\\n',contingency_table)#Observed Values\n",
    "print()\n",
    "Observed_Values = contingency_table.values \n",
    "print(\"Observed Values :-\\n\",Observed_Values)\n",
    "print()\n",
    "from scipy import stats\n",
    "chi=stats.chi2_contingency(contingency_table)\n",
    "Expected_Values = chi[3]\n",
    "print(\"Expected Values :-\\n\",Expected_Values)\n",
    "print()\n",
    "r=len(contingency_table.iloc[0:2,0])\n",
    "c=len(contingency_table.iloc[0,0:2])\n",
    "ddof=(r-1)*(c-1)\n",
    "print(\"Degree of Freedom:-\",ddof)\n",
    "print()\n",
    "alpha = 0.05\n",
    "from scipy.stats import chi2\n",
    "chi_square=sum([(o-e)**2./e for o,e in zip(Observed_Values,Expected_Values)])\n",
    "chi_square_statistic=chi_square[0]+chi_square[1]\n",
    "print(\"chi-square statistic:-\",chi_square_statistic)\n",
    "print()\n",
    "critical_value=chi2.ppf(q=1-alpha,df=ddof)\n",
    "print('critical_value:',critical_value)#p-value\n",
    "print()\n",
    "p_value=1-chi2.cdf(x=chi_square_statistic,df=ddof)\n",
    "print('p-value:',p_value)\n",
    "print()\n",
    "print('Significance level: ',alpha)\n",
    "print()\n",
    "print('Degree of Freedom: ',ddof)\n",
    "print()\n",
    "print('chi-square statistic:',chi_square_statistic)\n",
    "print()\n",
    "print('critical_value:',critical_value)\n",
    "print()\n",
    "print('p-value:',p_value)\n",
    "print()\n",
    "if chi_square_statistic>=critical_value:\n",
    "    print(\"Reject H0,There is a relationship between treatment and company_size\")\n",
    "    print()\n",
    "else:\n",
    "    print(\"Accept H0,There is no relationship between treatment and company_size\")\n",
    "    print()\n",
    "if p_value<=alpha:\n",
    "    print(\"Reject H0,There is a relationship between treatment and company_size\")\n",
    "    print()\n",
    "else:\n",
    "    print(\"Accept H0,There is no relationship between treatment and company_size\")"
   ]
  },
  {
   "cell_type": "markdown",
   "metadata": {},
   "source": [
    "We can conclude that treatment and company size are very significant to overspend, from the small p-value's, which are less than 0.005. "
   ]
  },
  {
   "cell_type": "markdown",
   "metadata": {},
   "source": [
    "To check if the new product is effective at reducing overspend, I will use the t distribution to compare the result of the two experiements. Since the assumptions of t-distribution are assuming normal dstribution & homogenuity variance, i will start by checking if the two groups are normally distributed before performing a t distribution experiemnt.\n"
   ]
  },
  {
   "cell_type": "markdown",
   "metadata": {},
   "source": [
    "##### Normality Test\n",
    "\n",
    "###### Null Hypotesis: The two groups are normally distributed\n",
    "###### Alternative Hypothesis: The two groups are not normally distributed"
   ]
  },
  {
   "cell_type": "code",
   "execution_count": 15,
   "metadata": {},
   "outputs": [
    {
     "data": {
      "text/html": [
       "<div>\n",
       "<style scoped>\n",
       "    .dataframe tbody tr th:only-of-type {\n",
       "        vertical-align: middle;\n",
       "    }\n",
       "\n",
       "    .dataframe tbody tr th {\n",
       "        vertical-align: top;\n",
       "    }\n",
       "\n",
       "    .dataframe thead th {\n",
       "        text-align: right;\n",
       "    }\n",
       "</style>\n",
       "<table border=\"1\" class=\"dataframe\">\n",
       "  <thead>\n",
       "    <tr style=\"text-align: right;\">\n",
       "      <th></th>\n",
       "      <th>treatment</th>\n",
       "      <th>company_size</th>\n",
       "      <th>campaign_spend</th>\n",
       "      <th>campaign_budget</th>\n",
       "      <th>overspend_pct</th>\n",
       "      <th>overspend_gt1pct</th>\n",
       "      <th>treatment_norm</th>\n",
       "      <th>control_norm</th>\n",
       "    </tr>\n",
       "  </thead>\n",
       "  <tbody>\n",
       "    <tr>\n",
       "      <th>0</th>\n",
       "      <td>False</td>\n",
       "      <td>small</td>\n",
       "      <td>10.4477</td>\n",
       "      <td>3.9035</td>\n",
       "      <td>167.649545</td>\n",
       "      <td>Control</td>\n",
       "      <td>NaN</td>\n",
       "      <td>167.649545</td>\n",
       "    </tr>\n",
       "    <tr>\n",
       "      <th>1</th>\n",
       "      <td>False</td>\n",
       "      <td>medium</td>\n",
       "      <td>3.7776</td>\n",
       "      <td>1.9872</td>\n",
       "      <td>90.096618</td>\n",
       "      <td>Control</td>\n",
       "      <td>NaN</td>\n",
       "      <td>90.096618</td>\n",
       "    </tr>\n",
       "    <tr>\n",
       "      <th>2</th>\n",
       "      <td>False</td>\n",
       "      <td>medium</td>\n",
       "      <td>46.1880</td>\n",
       "      <td>55.4523</td>\n",
       "      <td>-16.706791</td>\n",
       "      <td>NaN</td>\n",
       "      <td>NaN</td>\n",
       "      <td>-16.706791</td>\n",
       "    </tr>\n",
       "    <tr>\n",
       "      <th>3</th>\n",
       "      <td>False</td>\n",
       "      <td>small</td>\n",
       "      <td>6.6271</td>\n",
       "      <td>6.5136</td>\n",
       "      <td>1.742508</td>\n",
       "      <td>Control</td>\n",
       "      <td>NaN</td>\n",
       "      <td>1.742508</td>\n",
       "    </tr>\n",
       "    <tr>\n",
       "      <th>4</th>\n",
       "      <td>False</td>\n",
       "      <td>small</td>\n",
       "      <td>92.3405</td>\n",
       "      <td>83.1018</td>\n",
       "      <td>11.117328</td>\n",
       "      <td>Control</td>\n",
       "      <td>NaN</td>\n",
       "      <td>11.117328</td>\n",
       "    </tr>\n",
       "  </tbody>\n",
       "</table>\n",
       "</div>"
      ],
      "text/plain": [
       "   treatment company_size  campaign_spend  campaign_budget  overspend_pct  \\\n",
       "0      False        small         10.4477           3.9035     167.649545   \n",
       "1      False       medium          3.7776           1.9872      90.096618   \n",
       "2      False       medium         46.1880          55.4523     -16.706791   \n",
       "3      False        small          6.6271           6.5136       1.742508   \n",
       "4      False        small         92.3405          83.1018      11.117328   \n",
       "\n",
       "  overspend_gt1pct  treatment_norm  control_norm  \n",
       "0          Control             NaN    167.649545  \n",
       "1          Control             NaN     90.096618  \n",
       "2              NaN             NaN    -16.706791  \n",
       "3          Control             NaN      1.742508  \n",
       "4          Control             NaN     11.117328  "
      ]
     },
     "execution_count": 15,
     "metadata": {},
     "output_type": "execute_result"
    }
   ],
   "source": [
    "import warnings\n",
    "warnings.filterwarnings(\"ignore\")\n",
    "\n",
    "df[\"treatment_norm\"]=np.nan\n",
    "df[\"control_norm\"]=np.nan\n",
    "df[\"treatment_norm\"][df[\"treatment\"]==True]=df[\"overspend_pct\"]\n",
    "df[\"control_norm\"][df[\"treatment\"]==False]=df[\"overspend_pct\"]\n",
    "df.head()"
   ]
  },
  {
   "cell_type": "code",
   "execution_count": 16,
   "metadata": {},
   "outputs": [
    {
     "name": "stdout",
     "output_type": "stream",
     "text": [
      "p_control = 0\n",
      "The null hypothesis can be rejected\n",
      "p_treatment = 0\n",
      "The null hypothesis can be rejected\n"
     ]
    }
   ],
   "source": [
    "from scipy import stats\n",
    "k2, p_control = stats.normaltest(df[\"control_norm\"], nan_policy='omit')\n",
    "alpha = 1e-3\n",
    "print(\"p_control = {:g}\".format(p_control))\n",
    "if p_control < alpha:  # Null Hypotesis: control group is normally distributed\n",
    "    print(\"The null hypothesis can be rejected\")\n",
    "else:\n",
    "    print(\"The null hypothesis cannot be rejected\")\n",
    "    \n",
    "\n",
    "k2, p_treatment = stats.normaltest(df[\"control_norm\"], nan_policy='omit')\n",
    "alpha = 1e-3\n",
    "print(\"p_treatment = {:g}\".format(p_treatment))\n",
    "if p_treatment < alpha:  # Null Hypotesis: treatment group is normally distributed\n",
    "    print(\"The null hypothesis can be rejected\")\n",
    "else:\n",
    "    print(\"The null hypothesis cannot be rejected\")"
   ]
  },
  {
   "cell_type": "markdown",
   "metadata": {},
   "source": [
    "* From the result above it's obvious that overspend is not normally distributed. \n",
    "\n",
    "* I will next try to improve the normality of the overspend variable, by using the transformation method that reduces the skewness of the overspend. \n",
    "\n",
    "* I will be using both log transformation and inverse transformation, then I will choose the method that gives the least skewness. To avoid having NaN values due to negatives values in the log tranformation method, I will add the least negative value, that's add 58."
   ]
  },
  {
   "cell_type": "code",
   "execution_count": 17,
   "metadata": {},
   "outputs": [
    {
     "data": {
      "text/html": [
       "<div>\n",
       "<style scoped>\n",
       "    .dataframe tbody tr th:only-of-type {\n",
       "        vertical-align: middle;\n",
       "    }\n",
       "\n",
       "    .dataframe tbody tr th {\n",
       "        vertical-align: top;\n",
       "    }\n",
       "\n",
       "    .dataframe thead th {\n",
       "        text-align: right;\n",
       "    }\n",
       "</style>\n",
       "<table border=\"1\" class=\"dataframe\">\n",
       "  <thead>\n",
       "    <tr style=\"text-align: right;\">\n",
       "      <th></th>\n",
       "      <th>campaign_spend</th>\n",
       "      <th>campaign_budget</th>\n",
       "      <th>overspend_pct</th>\n",
       "      <th>treatment_norm</th>\n",
       "      <th>control_norm</th>\n",
       "    </tr>\n",
       "  </thead>\n",
       "  <tbody>\n",
       "    <tr>\n",
       "      <th>count</th>\n",
       "      <td>1.547400e+04</td>\n",
       "      <td>1.547400e+04</td>\n",
       "      <td>15474.000000</td>\n",
       "      <td>7741.000000</td>\n",
       "      <td>7733.000000</td>\n",
       "    </tr>\n",
       "    <tr>\n",
       "      <th>mean</th>\n",
       "      <td>4.903037e+03</td>\n",
       "      <td>5.772614e+03</td>\n",
       "      <td>21.462456</td>\n",
       "      <td>17.606350</td>\n",
       "      <td>25.322550</td>\n",
       "    </tr>\n",
       "    <tr>\n",
       "      <th>std</th>\n",
       "      <td>6.516692e+04</td>\n",
       "      <td>9.903381e+04</td>\n",
       "      <td>71.981600</td>\n",
       "      <td>69.834845</td>\n",
       "      <td>73.871456</td>\n",
       "    </tr>\n",
       "    <tr>\n",
       "      <th>min</th>\n",
       "      <td>3.595000e-01</td>\n",
       "      <td>9.190000e-02</td>\n",
       "      <td>-57.485809</td>\n",
       "      <td>-57.485809</td>\n",
       "      <td>-49.987882</td>\n",
       "    </tr>\n",
       "    <tr>\n",
       "      <th>25%</th>\n",
       "      <td>1.517812e+01</td>\n",
       "      <td>1.279290e+01</td>\n",
       "      <td>0.308085</td>\n",
       "      <td>-5.320827</td>\n",
       "      <td>0.840123</td>\n",
       "    </tr>\n",
       "    <tr>\n",
       "      <th>50%</th>\n",
       "      <td>5.009005e+01</td>\n",
       "      <td>4.881625e+01</td>\n",
       "      <td>5.619451</td>\n",
       "      <td>4.626489</td>\n",
       "      <td>6.455069</td>\n",
       "    </tr>\n",
       "    <tr>\n",
       "      <th>75%</th>\n",
       "      <td>2.365468e+02</td>\n",
       "      <td>2.523155e+02</td>\n",
       "      <td>24.010133</td>\n",
       "      <td>20.876299</td>\n",
       "      <td>27.588553</td>\n",
       "    </tr>\n",
       "    <tr>\n",
       "      <th>max</th>\n",
       "      <td>5.289217e+06</td>\n",
       "      <td>1.024289e+07</td>\n",
       "      <td>400.081466</td>\n",
       "      <td>400.081466</td>\n",
       "      <td>400.030741</td>\n",
       "    </tr>\n",
       "  </tbody>\n",
       "</table>\n",
       "</div>"
      ],
      "text/plain": [
       "       campaign_spend  campaign_budget  overspend_pct  treatment_norm  \\\n",
       "count    1.547400e+04     1.547400e+04   15474.000000     7741.000000   \n",
       "mean     4.903037e+03     5.772614e+03      21.462456       17.606350   \n",
       "std      6.516692e+04     9.903381e+04      71.981600       69.834845   \n",
       "min      3.595000e-01     9.190000e-02     -57.485809      -57.485809   \n",
       "25%      1.517812e+01     1.279290e+01       0.308085       -5.320827   \n",
       "50%      5.009005e+01     4.881625e+01       5.619451        4.626489   \n",
       "75%      2.365468e+02     2.523155e+02      24.010133       20.876299   \n",
       "max      5.289217e+06     1.024289e+07     400.081466      400.081466   \n",
       "\n",
       "       control_norm  \n",
       "count   7733.000000  \n",
       "mean      25.322550  \n",
       "std       73.871456  \n",
       "min      -49.987882  \n",
       "25%        0.840123  \n",
       "50%        6.455069  \n",
       "75%       27.588553  \n",
       "max      400.030741  "
      ]
     },
     "execution_count": 17,
     "metadata": {},
     "output_type": "execute_result"
    }
   ],
   "source": [
    "df.describe()"
   ]
  },
  {
   "cell_type": "code",
   "execution_count": 18,
   "metadata": {},
   "outputs": [],
   "source": [
    "## Log transformation generates NaN due to presence of negatives, the smallest number is -57.48581 so 58 is added to make all values positive\n",
    "df['overspend_pct_log'] = np.log10(df['overspend_pct']+58)\n",
    "## Inverse transformation\n",
    "df['overspend_pct_inv'] = 1/(df['overspend_pct'])"
   ]
  },
  {
   "cell_type": "code",
   "execution_count": 19,
   "metadata": {},
   "outputs": [
    {
     "data": {
      "text/plain": [
       "(-0.34078984974856374, nan)"
      ]
     },
     "execution_count": 19,
     "metadata": {},
     "output_type": "execute_result"
    }
   ],
   "source": [
    "skew_log = df['overspend_pct_log'].skew()\n",
    "skew_inv = df['overspend_pct_inv'].skew()\n",
    "skew_log, skew_inv"
   ]
  },
  {
   "cell_type": "markdown",
   "metadata": {},
   "source": [
    "* I will be choosing the log transformation method, even though the negative value means skewed to the left with a long tail."
   ]
  },
  {
   "cell_type": "markdown",
   "metadata": {},
   "source": [
    "###### Homogeneity of Variance\n",
    "\n",
    "###### Null Hypothesis: Treatment and Control group have equal variance\n",
    "###### Alternative Hypothesis: Treatment and Control group have different variance"
   ]
  },
  {
   "cell_type": "code",
   "execution_count": 20,
   "metadata": {},
   "outputs": [
    {
     "data": {
      "text/html": [
       "<div>\n",
       "<style scoped>\n",
       "    .dataframe tbody tr th:only-of-type {\n",
       "        vertical-align: middle;\n",
       "    }\n",
       "\n",
       "    .dataframe tbody tr th {\n",
       "        vertical-align: top;\n",
       "    }\n",
       "\n",
       "    .dataframe thead th {\n",
       "        text-align: right;\n",
       "    }\n",
       "</style>\n",
       "<table border=\"1\" class=\"dataframe\">\n",
       "  <thead>\n",
       "    <tr style=\"text-align: right;\">\n",
       "      <th></th>\n",
       "      <th>treatment</th>\n",
       "      <th>company_size</th>\n",
       "      <th>campaign_spend</th>\n",
       "      <th>campaign_budget</th>\n",
       "      <th>overspend_pct</th>\n",
       "      <th>overspend_gt1pct</th>\n",
       "      <th>treatment_norm</th>\n",
       "      <th>control_norm</th>\n",
       "      <th>overspend_pct_log</th>\n",
       "      <th>overspend_pct_inv</th>\n",
       "      <th>treatment_var</th>\n",
       "      <th>control_var</th>\n",
       "    </tr>\n",
       "  </thead>\n",
       "  <tbody>\n",
       "    <tr>\n",
       "      <th>0</th>\n",
       "      <td>False</td>\n",
       "      <td>small</td>\n",
       "      <td>10.4477</td>\n",
       "      <td>3.9035</td>\n",
       "      <td>167.649545</td>\n",
       "      <td>Control</td>\n",
       "      <td>NaN</td>\n",
       "      <td>167.649545</td>\n",
       "      <td>2.353434</td>\n",
       "      <td>0.005965</td>\n",
       "      <td>NaN</td>\n",
       "      <td>2.353434</td>\n",
       "    </tr>\n",
       "    <tr>\n",
       "      <th>1</th>\n",
       "      <td>False</td>\n",
       "      <td>medium</td>\n",
       "      <td>3.7776</td>\n",
       "      <td>1.9872</td>\n",
       "      <td>90.096618</td>\n",
       "      <td>Control</td>\n",
       "      <td>NaN</td>\n",
       "      <td>90.096618</td>\n",
       "      <td>2.170545</td>\n",
       "      <td>0.011099</td>\n",
       "      <td>NaN</td>\n",
       "      <td>2.170545</td>\n",
       "    </tr>\n",
       "    <tr>\n",
       "      <th>2</th>\n",
       "      <td>False</td>\n",
       "      <td>medium</td>\n",
       "      <td>46.1880</td>\n",
       "      <td>55.4523</td>\n",
       "      <td>-16.706791</td>\n",
       "      <td>NaN</td>\n",
       "      <td>NaN</td>\n",
       "      <td>-16.706791</td>\n",
       "      <td>1.615879</td>\n",
       "      <td>-0.059856</td>\n",
       "      <td>NaN</td>\n",
       "      <td>1.615879</td>\n",
       "    </tr>\n",
       "    <tr>\n",
       "      <th>3</th>\n",
       "      <td>False</td>\n",
       "      <td>small</td>\n",
       "      <td>6.6271</td>\n",
       "      <td>6.5136</td>\n",
       "      <td>1.742508</td>\n",
       "      <td>Control</td>\n",
       "      <td>NaN</td>\n",
       "      <td>1.742508</td>\n",
       "      <td>1.776283</td>\n",
       "      <td>0.573885</td>\n",
       "      <td>NaN</td>\n",
       "      <td>1.776283</td>\n",
       "    </tr>\n",
       "    <tr>\n",
       "      <th>4</th>\n",
       "      <td>False</td>\n",
       "      <td>small</td>\n",
       "      <td>92.3405</td>\n",
       "      <td>83.1018</td>\n",
       "      <td>11.117328</td>\n",
       "      <td>Control</td>\n",
       "      <td>NaN</td>\n",
       "      <td>11.117328</td>\n",
       "      <td>1.839587</td>\n",
       "      <td>0.089950</td>\n",
       "      <td>NaN</td>\n",
       "      <td>1.839587</td>\n",
       "    </tr>\n",
       "  </tbody>\n",
       "</table>\n",
       "</div>"
      ],
      "text/plain": [
       "   treatment company_size  campaign_spend  campaign_budget  overspend_pct  \\\n",
       "0      False        small         10.4477           3.9035     167.649545   \n",
       "1      False       medium          3.7776           1.9872      90.096618   \n",
       "2      False       medium         46.1880          55.4523     -16.706791   \n",
       "3      False        small          6.6271           6.5136       1.742508   \n",
       "4      False        small         92.3405          83.1018      11.117328   \n",
       "\n",
       "  overspend_gt1pct  treatment_norm  control_norm  overspend_pct_log  \\\n",
       "0          Control             NaN    167.649545           2.353434   \n",
       "1          Control             NaN     90.096618           2.170545   \n",
       "2              NaN             NaN    -16.706791           1.615879   \n",
       "3          Control             NaN      1.742508           1.776283   \n",
       "4          Control             NaN     11.117328           1.839587   \n",
       "\n",
       "   overspend_pct_inv  treatment_var  control_var  \n",
       "0           0.005965            NaN     2.353434  \n",
       "1           0.011099            NaN     2.170545  \n",
       "2          -0.059856            NaN     1.615879  \n",
       "3           0.573885            NaN     1.776283  \n",
       "4           0.089950            NaN     1.839587  "
      ]
     },
     "execution_count": 20,
     "metadata": {},
     "output_type": "execute_result"
    }
   ],
   "source": [
    "import warnings\n",
    "warnings.filterwarnings(\"ignore\")\n",
    "\n",
    "df[\"treatment_var\"]=np.nan\n",
    "df[\"control_var\"]=np.nan\n",
    "df[\"treatment_var\"][df[\"treatment\"]==True]=df[\"overspend_pct_log\"]\n",
    "df[\"control_var\"][df[\"treatment\"]==False]=df[\"overspend_pct_log\"]\n",
    "df.head()"
   ]
  },
  {
   "cell_type": "code",
   "execution_count": 21,
   "metadata": {},
   "outputs": [
    {
     "name": "stdout",
     "output_type": "stream",
     "text": [
      "40.61950521106939 1.8495120383608748e-10\n"
     ]
    }
   ],
   "source": [
    "from scipy.stats import bartlett\n",
    "\n",
    "# Bartlett's test in Python with SciPy:\n",
    "stat, p = bartlett(df['control_var'],df['treatment_var'])\n",
    "# Get the results:\n",
    "print(stat, p)"
   ]
  },
  {
   "cell_type": "markdown",
   "metadata": {},
   "source": [
    "p-value is less than confidence interval 0.05, which means we reject the null hypothesis that there is no difference in the groups variance. But we want homogeneity of the variance, so I will go ahead and plot the overspent percentage and the company size, separated by the treatment to see if we can use the unequal variance."
   ]
  },
  {
   "cell_type": "code",
   "execution_count": 22,
   "metadata": {},
   "outputs": [
    {
     "data": {
      "text/plain": [
       "Text(0.5, 1.0, 'overspend_pct_log by Company Size, Separated by Treatment')"
      ]
     },
     "execution_count": 22,
     "metadata": {},
     "output_type": "execute_result"
    },
    {
     "data": {
      "image/png": "[encoded data removed]",
      "text/plain": [
       "<Figure size 864x576 with 1 Axes>"
      ]
     },
     "metadata": {
      "needs_background": "light"
     },
     "output_type": "display_data"
    }
   ],
   "source": [
    "plt.figure(figsize=(12,8))\n",
    "sns.boxplot(x='company_size',y='overspend_pct_log',hue='treatment',data=df, palette='rainbow')\n",
    "#sns.swarmplot(x='company_size',y='campaign_spend',hue='treatment', dodge=True,data=df, alpha=.8,color='grey',s=4)\n",
    "#sns.violinplot(x='company_size',y=\"overspend_pct_log\", data=df, split='True', palette='rainbow')\n",
    "plt.title(\"overspend_pct_log by Company Size, Separated by Treatment\")"
   ]
  },
  {
   "cell_type": "markdown",
   "metadata": {},
   "source": [
    "From the box-plot, we notice that the median of both the control and treatment group is about the same for the medium sized companies. \n",
    "\n",
    "The treatment group also turn out to have a slightly lower overspend for the small and large sized companies as compared to the control group. The medium sized companies have roughly the same median budget and spending in both the treatment and control. \n",
    "\n",
    "The Inter-Quartile Range (IQR) of the medium and large sized companies is larger in the treatment group compared to the control group. In the small sized companies, the IQR is smaller in the treatment group compared to the control group. \n",
    "\n",
    "I will conclud from the boxplot that considering unequal variances would be good, then we can use the unequal variance test and proceed to perform a t-test. \n"
   ]
  },
  {
   "cell_type": "markdown",
   "metadata": {},
   "source": [
    "###### T-Test"
   ]
  },
  {
   "cell_type": "code",
   "execution_count": 23,
   "metadata": {},
   "outputs": [],
   "source": [
    "cat = ['treatment', 'company_size', 'overspend_pct_log']\n",
    "df1 = df[cat]"
   ]
  },
  {
   "cell_type": "code",
   "execution_count": 25,
   "metadata": {},
   "outputs": [
    {
     "data": {
      "text/plain": [
       "Ttest_indResult(statistic=-10.201128884686826, pvalue=2.3415858650106703e-24)"
      ]
     },
     "execution_count": 25,
     "metadata": {},
     "output_type": "execute_result"
    }
   ],
   "source": [
    "from scipy import stats as st\n",
    "\n",
    "# t test using scipy\n",
    "a = df1.loc[df1['treatment'] == True, 'overspend_pct_log']\n",
    "b = df1.loc[df1['treatment'] == False, 'overspend_pct_log']\n",
    "st.ttest_ind(a=a, b=b, equal_var=False)\n",
    "\n"
   ]
  },
  {
   "cell_type": "markdown",
   "metadata": {},
   "source": [
    "At a 95% confidence, having a p-value below 0.05 suggests that control group had more overspend than the treatment group. Therefore I can conclude that the new product was effective at reducing overspend.\n"
   ]
  },
  {
   "cell_type": "code",
   "execution_count": null,
   "metadata": {},
   "outputs": [],
   "source": []
  },
  {
   "cell_type": "code",
   "execution_count": null,
   "metadata": {},
   "outputs": [],
   "source": []
  },
  {
   "cell_type": "code",
   "execution_count": null,
   "metadata": {},
   "outputs": [],
   "source": []
  },
  {
   "cell_type": "code",
   "execution_count": null,
   "metadata": {},
   "outputs": [],
   "source": []
  }
 ],
 "metadata": {
  "kernelspec": {
   "display_name": "Python 3",
   "language": "python",
   "name": "python3"
  },
  "language_info": {
   "codemirror_mode": {
    "name": "ipython",
    "version": 3
   },
   "file_extension": ".py",
   "mimetype": "text/x-python",
   "name": "python",
   "nbconvert_exporter": "python",
   "pygments_lexer": "ipython3",
   "version": "3.7.3"
  }
 },
 "nbformat": 4,
 "nbformat_minor": 2
}
